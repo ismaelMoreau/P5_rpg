{
 "cells": [
  {
   "cell_type": "code",
   "execution_count": 1,
   "metadata": {},
   "outputs": [
    {
     "name": "stdout",
     "output_type": "stream",
     "text": [
      "tile010.png\n",
      "tile001.png\n",
      "tile006.png\n",
      "tile004.png\n",
      "tile009.png\n",
      "tile008.png\n",
      "tile002.png\n",
      "tile000.png\n",
      "tile005.png\n",
      "tile3.png\n",
      "tile0.png\n",
      "tile6.png\n",
      "tile2.png\n",
      "tile4.png\n",
      "tile5.png\n",
      "tile7.png\n",
      "tile8.png\n",
      "tile1.png\n"
     ]
    }
   ],
   "source": [
    "\n",
    "#Rename in order\n",
    "\n",
    "import os\n",
    "count = 0\n",
    "path='/home/ism/P5_rpg/sprites/char4'\n",
    "for file in os.listdir(path):\n",
    "    \n",
    "    print(file)\n",
    "    os.rename(os.path.join(path,file), os.path.join(path,f\"{path}/tile{count}.png\"))\n",
    "    count = count + 1 \n",
    "count=0\n",
    "for file in os.listdir(path):\n",
    "    \n",
    "    print(file)\n",
    "    os.rename(os.path.join(path,file), os.path.join(path,f\"{path}/tile00{count}.png\"))\n",
    "    count = count + 1 "
   ]
  },
  {
   "cell_type": "code",
   "execution_count": 18,
   "metadata": {},
   "outputs": [
    {
     "name": "stdout",
     "output_type": "stream",
     "text": [
      "{1: <p5.core.image.PImage object at 0x7ff5c4081fd0>, 3: <p5.core.image.PImage object at 0x7ff5bc11b700>, 6: <p5.core.image.PImage object at 0x7ff5a7597a30>, 4: <p5.core.image.PImage object at 0x7ff5bc11b940>, 8: <p5.core.image.PImage object at 0x7ff5a7332bb0>, 7: <p5.core.image.PImage object at 0x7ff5a7332d90>, 2: <p5.core.image.PImage object at 0x7ff5a7332a90>, 0: <p5.core.image.PImage object at 0x7ff5a0d948e0>, 5: <p5.core.image.PImage object at 0x7ff5a0d94820>}\n"
     ]
    }
   ],
   "source": []
  },
  {
   "cell_type": "code",
   "execution_count": 1,
   "metadata": {},
   "outputs": [],
   "source": [
    "from cv2 import cv2\n",
    "path='/home/ism/P5_rpg/sprites/char4'\n",
    "img = cv2.imread(f\"{path}/tile000.png\", cv2.IMREAD_UNCHANGED)\n"
   ]
  },
  {
   "cell_type": "code",
   "execution_count": 2,
   "metadata": {},
   "outputs": [],
   "source": [
    " \n",
    "# print(img[16,16])\n",
    "# print(img[:,:,3])\n",
    "\n",
    "for x,row in enumerate(img): \n",
    "    for y,cell in enumerate(row):#if x < 0:\n",
    "        if cell[3] !=0:\n",
    "            img[x,y] = [255,255,255,255]        "
   ]
  },
  {
   "cell_type": "code",
   "execution_count": 3,
   "metadata": {},
   "outputs": [],
   "source": [
    "cv2.imshow('graycsale image',img)\n",
    "cv2.waitKey(0)\n",
    "cv2.destroyAllWindows() "
   ]
  },
  {
   "cell_type": "code",
   "execution_count": 12,
   "metadata": {},
   "outputs": [],
   "source": [
    "\n",
    "\n",
    "# extract mask from png\n",
    "\n",
    "\n",
    "import os\n",
    "import cv2\n",
    "path='/home/ism/P5_rpg/sprites/char4'\n",
    "for file in os.listdir(path):\n",
    "    img = cv2.imread(f\"{path}/{file}\", cv2.IMREAD_UNCHANGED)\n",
    "\n",
    "    for x,row in enumerate(img): \n",
    "        for y,cell in enumerate(row):#if x < 0:\n",
    "            if cell[3] !=0:\n",
    "                img[x,y] = [255,255,255,255]  \n",
    "            \n",
    "    cv2.imwrite(f'{path}/mask{file}',img)\n"
   ]
  },
  {
   "cell_type": "code",
   "execution_count": 14,
   "metadata": {},
   "outputs": [],
   "source": [
    "\n",
    "# convert in jpg\n",
    "import cv2\n",
    "import os\n",
    "count = 0\n",
    "path='/home/ism/P5_rpg/sprites/char4'\n",
    "for file in os.listdir(path):\n",
    "    f = file[:len(file)-4]\n",
    "    # Load .png image\n",
    "    image = cv2.imread(f\"{path}/{file}\")\n",
    "\n",
    "    # Save .jpg image\n",
    "    cv2.imwrite(f'{path}/{f}.jpg', image, [int(cv2.IMWRITE_JPEG_QUALITY), 100])\n",
    "    os.remove(os.path.join(path, file))"
   ]
  },
  {
   "cell_type": "code",
   "execution_count": null,
   "metadata": {},
   "outputs": [
    {
     "ename": "",
     "evalue": "",
     "output_type": "error",
     "traceback": [
      "\u001b[1;31mRunning cells with 'Python 3.10.2 64-bit' requires ipykernel package.\n",
      "Run the following command to install 'ipykernel' into the Python environment. \n",
      "Command: '\"C:/Program Files/Python310/python.exe\" -m pip install ipykernel -U --user --force-reinstall'"
     ]
    }
   ],
   "source": [
    "import progressbar"
   ]
  },
  {
   "cell_type": "code",
   "execution_count": 18,
   "metadata": {},
   "outputs": [
    {
     "data": {
      "text/plain": [
       "numpy.float32"
      ]
     },
     "execution_count": 18,
     "metadata": {},
     "output_type": "execute_result"
    }
   ],
   "source": [
    "import numpy as np\n",
    "import p5\n",
    "Qlearning_table= np.zeros((10,10,4))\n",
    "#Qlearning_table = Qzerosng_table.reshape((100,4))\n",
    "#Qlearning_table[1,0]\n",
    "v = p5.Vector(1,1)\n",
    "#Qlearning_table[int(v.x),int(v.y),1]\n",
    "type(v[0])"
   ]
  },
  {
   "cell_type": "code",
   "execution_count": 19,
   "metadata": {},
   "outputs": [
    {
     "data": {
      "text/plain": [
       "100"
      ]
     },
     "execution_count": 19,
     "metadata": {},
     "output_type": "execute_result"
    }
   ],
   "source": [
    "a= [100,100,100,569,570,536,100,538,538,536,536,568,536,537,538,536,537,100,536,568,568,569,570,100,538,536,100,100,100,536,568,568,536,537,100,568,568,100,100,100,100,100,100,100,100,100,100,100,100,100,568,536,568,568,568,569,570,100,100,570,100,100,537,538,570,100,100,100,100,568,568,568,536,536,536,537,538,100,570,536,100,538,100,100,100,100,100,568,568,569,536,100,538,100,100,569,570,568,569,536]\n",
    "len(a)"
   ]
  },
  {
   "cell_type": "code",
   "execution_count": 1,
   "metadata": {},
   "outputs": [
    {
     "name": "stdout",
     "output_type": "stream",
     "text": [
      "[0, 2, 4]\n"
     ]
    }
   ],
   "source": [
    "vec = [-4, -2, 0, 2, 4]\n",
    "print([x for x in vec if x >= 0])"
   ]
  },
  {
   "cell_type": "code",
   "execution_count": 5,
   "metadata": {},
   "outputs": [
    {
     "name": "stdout",
     "output_type": "stream",
     "text": [
      "[0, 1, 4, 9, 16, 25, 36, 49, 64, 81]\n",
      "[0, 1, 4, 9, 16, 25, 36, 49, 64, 81]\n"
     ]
    }
   ],
   "source": [
    "squares = list(map(lambda x: x**2, range(10)))\n",
    "squares2 = [x**2 for x in range(10)]\n",
    "print(squares)\n",
    "print(squares2)"
   ]
  },
  {
   "cell_type": "code",
   "execution_count": null,
   "metadata": {},
   "outputs": [],
   "source": []
  }
 ],
 "metadata": {
  "interpreter": {
   "hash": "916dbcbb3f70747c44a77c7bcd40155683ae19c65e1c03b4aa3499c5328201f1"
  },
  "kernelspec": {
   "display_name": "Python 3.8.10 64-bit",
   "language": "python",
   "name": "python3"
  },
  "language_info": {
   "codemirror_mode": {
    "name": "ipython",
    "version": 3
   },
   "file_extension": ".py",
   "mimetype": "text/x-python",
   "name": "python",
   "nbconvert_exporter": "python",
   "pygments_lexer": "ipython3",
   "version": "3.10.2"
  },
  "orig_nbformat": 4
 },
 "nbformat": 4,
 "nbformat_minor": 2
}
